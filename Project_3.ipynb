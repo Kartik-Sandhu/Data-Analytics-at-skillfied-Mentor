{
 "cells": [
  {
   "cell_type": "markdown",
   "id": "6ea286de",
   "metadata": {},
   "source": [
    "# Colorectal Cancer Risk & Survival Prediction:"
   ]
  },
  {
   "cell_type": "code",
   "execution_count": 1,
   "id": "34181945",
   "metadata": {},
   "outputs": [],
   "source": [
    "# Step 1: Import Libraries"
   ]
  },
  {
   "cell_type": "code",
   "execution_count": 2,
   "id": "fdd05cad",
   "metadata": {},
   "outputs": [],
   "source": [
    "import pandas as pd\n",
    "import numpy as np\n",
    "\n",
    "import matplotlib.pyplot as plt\n",
    "import seaborn as sns\n",
    "\n",
    "from sklearn.preprocessing import LabelEncoder, StandardScaler\n",
    "from sklearn.model_selection import train_test_split\n",
    "\n",
    "from sklearn.linear_model import LogisticRegression\n",
    "from sklearn.ensemble import RandomForestClassifier\n",
    "from sklearn.tree import DecisionTreeClassifier\n",
    "\n",
    "from sklearn.metrics import accuracy_score, classification_report, confusion_matrix\n"
   ]
  },
  {
   "cell_type": "code",
   "execution_count": 3,
   "id": "7bd85698",
   "metadata": {},
   "outputs": [],
   "source": [
    "# Step 2: Load the Dataset"
   ]
  },
  {
   "cell_type": "code",
   "execution_count": 5,
   "id": "03c81032",
   "metadata": {},
   "outputs": [],
   "source": [
    "df = pd.read_csv(\"colorectal_cancer_prediction.csv\") "
   ]
  },
  {
   "cell_type": "code",
   "execution_count": 6,
   "id": "a54effa0",
   "metadata": {},
   "outputs": [
    {
     "data": {
      "text/html": [
       "<div>\n",
       "<style scoped>\n",
       "    .dataframe tbody tr th:only-of-type {\n",
       "        vertical-align: middle;\n",
       "    }\n",
       "\n",
       "    .dataframe tbody tr th {\n",
       "        vertical-align: top;\n",
       "    }\n",
       "\n",
       "    .dataframe thead th {\n",
       "        text-align: right;\n",
       "    }\n",
       "</style>\n",
       "<table border=\"1\" class=\"dataframe\">\n",
       "  <thead>\n",
       "    <tr style=\"text-align: right;\">\n",
       "      <th></th>\n",
       "      <th>Patient_ID</th>\n",
       "      <th>Age</th>\n",
       "      <th>Gender</th>\n",
       "      <th>Race</th>\n",
       "      <th>Region</th>\n",
       "      <th>Urban_or_Rural</th>\n",
       "      <th>Socioeconomic_Status</th>\n",
       "      <th>Family_History</th>\n",
       "      <th>Previous_Cancer_History</th>\n",
       "      <th>Stage_at_Diagnosis</th>\n",
       "      <th>...</th>\n",
       "      <th>Insurance_Coverage</th>\n",
       "      <th>Time_to_Diagnosis</th>\n",
       "      <th>Treatment_Access</th>\n",
       "      <th>Chemotherapy_Received</th>\n",
       "      <th>Radiotherapy_Received</th>\n",
       "      <th>Surgery_Received</th>\n",
       "      <th>Follow_Up_Adherence</th>\n",
       "      <th>Survival_Status</th>\n",
       "      <th>Recurrence</th>\n",
       "      <th>Time_to_Recurrence</th>\n",
       "    </tr>\n",
       "  </thead>\n",
       "  <tbody>\n",
       "    <tr>\n",
       "      <th>0</th>\n",
       "      <td>1</td>\n",
       "      <td>71</td>\n",
       "      <td>Male</td>\n",
       "      <td>Other</td>\n",
       "      <td>Europe</td>\n",
       "      <td>Urban</td>\n",
       "      <td>Middle</td>\n",
       "      <td>Yes</td>\n",
       "      <td>No</td>\n",
       "      <td>III</td>\n",
       "      <td>...</td>\n",
       "      <td>Yes</td>\n",
       "      <td>Delayed</td>\n",
       "      <td>Good</td>\n",
       "      <td>Yes</td>\n",
       "      <td>No</td>\n",
       "      <td>No</td>\n",
       "      <td>Good</td>\n",
       "      <td>Survived</td>\n",
       "      <td>No</td>\n",
       "      <td>16</td>\n",
       "    </tr>\n",
       "    <tr>\n",
       "      <th>1</th>\n",
       "      <td>2</td>\n",
       "      <td>34</td>\n",
       "      <td>Female</td>\n",
       "      <td>Black</td>\n",
       "      <td>North America</td>\n",
       "      <td>Urban</td>\n",
       "      <td>Middle</td>\n",
       "      <td>No</td>\n",
       "      <td>No</td>\n",
       "      <td>I</td>\n",
       "      <td>...</td>\n",
       "      <td>No</td>\n",
       "      <td>Timely</td>\n",
       "      <td>Good</td>\n",
       "      <td>No</td>\n",
       "      <td>Yes</td>\n",
       "      <td>Yes</td>\n",
       "      <td>Poor</td>\n",
       "      <td>Deceased</td>\n",
       "      <td>No</td>\n",
       "      <td>28</td>\n",
       "    </tr>\n",
       "    <tr>\n",
       "      <th>2</th>\n",
       "      <td>3</td>\n",
       "      <td>80</td>\n",
       "      <td>Female</td>\n",
       "      <td>White</td>\n",
       "      <td>North America</td>\n",
       "      <td>Urban</td>\n",
       "      <td>Middle</td>\n",
       "      <td>No</td>\n",
       "      <td>No</td>\n",
       "      <td>III</td>\n",
       "      <td>...</td>\n",
       "      <td>Yes</td>\n",
       "      <td>Timely</td>\n",
       "      <td>Limited</td>\n",
       "      <td>No</td>\n",
       "      <td>Yes</td>\n",
       "      <td>Yes</td>\n",
       "      <td>Good</td>\n",
       "      <td>Survived</td>\n",
       "      <td>No</td>\n",
       "      <td>26</td>\n",
       "    </tr>\n",
       "    <tr>\n",
       "      <th>3</th>\n",
       "      <td>4</td>\n",
       "      <td>40</td>\n",
       "      <td>Male</td>\n",
       "      <td>Black</td>\n",
       "      <td>North America</td>\n",
       "      <td>Rural</td>\n",
       "      <td>Low</td>\n",
       "      <td>No</td>\n",
       "      <td>No</td>\n",
       "      <td>I</td>\n",
       "      <td>...</td>\n",
       "      <td>Yes</td>\n",
       "      <td>Delayed</td>\n",
       "      <td>Limited</td>\n",
       "      <td>Yes</td>\n",
       "      <td>No</td>\n",
       "      <td>Yes</td>\n",
       "      <td>Poor</td>\n",
       "      <td>Deceased</td>\n",
       "      <td>No</td>\n",
       "      <td>44</td>\n",
       "    </tr>\n",
       "    <tr>\n",
       "      <th>4</th>\n",
       "      <td>5</td>\n",
       "      <td>43</td>\n",
       "      <td>Female</td>\n",
       "      <td>White</td>\n",
       "      <td>Europe</td>\n",
       "      <td>Urban</td>\n",
       "      <td>High</td>\n",
       "      <td>Yes</td>\n",
       "      <td>No</td>\n",
       "      <td>III</td>\n",
       "      <td>...</td>\n",
       "      <td>No</td>\n",
       "      <td>Delayed</td>\n",
       "      <td>Good</td>\n",
       "      <td>Yes</td>\n",
       "      <td>No</td>\n",
       "      <td>Yes</td>\n",
       "      <td>Poor</td>\n",
       "      <td>Deceased</td>\n",
       "      <td>Yes</td>\n",
       "      <td>20</td>\n",
       "    </tr>\n",
       "  </tbody>\n",
       "</table>\n",
       "<p>5 rows × 30 columns</p>\n",
       "</div>"
      ],
      "text/plain": [
       "   Patient_ID  Age  Gender   Race         Region Urban_or_Rural  \\\n",
       "0           1   71    Male  Other         Europe          Urban   \n",
       "1           2   34  Female  Black  North America          Urban   \n",
       "2           3   80  Female  White  North America          Urban   \n",
       "3           4   40    Male  Black  North America          Rural   \n",
       "4           5   43  Female  White         Europe          Urban   \n",
       "\n",
       "  Socioeconomic_Status Family_History Previous_Cancer_History  \\\n",
       "0               Middle            Yes                      No   \n",
       "1               Middle             No                      No   \n",
       "2               Middle             No                      No   \n",
       "3                  Low             No                      No   \n",
       "4                 High            Yes                      No   \n",
       "\n",
       "  Stage_at_Diagnosis  ... Insurance_Coverage Time_to_Diagnosis  \\\n",
       "0                III  ...                Yes           Delayed   \n",
       "1                  I  ...                 No            Timely   \n",
       "2                III  ...                Yes            Timely   \n",
       "3                  I  ...                Yes           Delayed   \n",
       "4                III  ...                 No           Delayed   \n",
       "\n",
       "  Treatment_Access Chemotherapy_Received  Radiotherapy_Received  \\\n",
       "0             Good                   Yes                     No   \n",
       "1             Good                    No                    Yes   \n",
       "2          Limited                    No                    Yes   \n",
       "3          Limited                   Yes                     No   \n",
       "4             Good                   Yes                     No   \n",
       "\n",
       "  Surgery_Received Follow_Up_Adherence Survival_Status Recurrence  \\\n",
       "0               No                Good        Survived         No   \n",
       "1              Yes                Poor        Deceased         No   \n",
       "2              Yes                Good        Survived         No   \n",
       "3              Yes                Poor        Deceased         No   \n",
       "4              Yes                Poor        Deceased        Yes   \n",
       "\n",
       "  Time_to_Recurrence  \n",
       "0                 16  \n",
       "1                 28  \n",
       "2                 26  \n",
       "3                 44  \n",
       "4                 20  \n",
       "\n",
       "[5 rows x 30 columns]"
      ]
     },
     "execution_count": 6,
     "metadata": {},
     "output_type": "execute_result"
    }
   ],
   "source": [
    "df.head()\n"
   ]
  },
  {
   "cell_type": "code",
   "execution_count": 7,
   "id": "5a965b27",
   "metadata": {},
   "outputs": [
    {
     "name": "stdout",
     "output_type": "stream",
     "text": [
      "Shape: (89945, 30)\n"
     ]
    }
   ],
   "source": [
    "print(\"Shape:\", df.shape)"
   ]
  },
  {
   "cell_type": "code",
   "execution_count": 8,
   "id": "2d184e82",
   "metadata": {},
   "outputs": [
    {
     "name": "stdout",
     "output_type": "stream",
     "text": [
      "Column Names:\n",
      "['Patient_ID', 'Age', 'Gender', 'Race', 'Region', 'Urban_or_Rural', 'Socioeconomic_Status', 'Family_History', 'Previous_Cancer_History', 'Stage_at_Diagnosis', 'Tumor_Aggressiveness', 'Colonoscopy_Access', 'Screening_Regularity', 'Diet_Type', 'BMI', 'Physical_Activity_Level', 'Smoking_Status', 'Alcohol_Consumption', 'Red_Meat_Consumption', 'Fiber_Consumption', 'Insurance_Coverage', 'Time_to_Diagnosis', 'Treatment_Access', 'Chemotherapy_Received', 'Radiotherapy_Received', 'Surgery_Received', 'Follow_Up_Adherence', 'Survival_Status', 'Recurrence', 'Time_to_Recurrence']\n"
     ]
    }
   ],
   "source": [
    "columns = df.columns.tolist()\n",
    "print(\"Column Names:\")\n",
    "print(columns)"
   ]
  },
  {
   "cell_type": "code",
   "execution_count": 9,
   "id": "940e1860",
   "metadata": {},
   "outputs": [],
   "source": [
    "#Step 3: Handle Missing Values"
   ]
  },
  {
   "cell_type": "code",
   "execution_count": 10,
   "id": "680045dc",
   "metadata": {
    "scrolled": true
   },
   "outputs": [
    {
     "data": {
      "text/plain": [
       "Patient_ID                 0\n",
       "Age                        0\n",
       "Gender                     0\n",
       "Race                       0\n",
       "Region                     0\n",
       "Urban_or_Rural             0\n",
       "Socioeconomic_Status       0\n",
       "Family_History             0\n",
       "Previous_Cancer_History    0\n",
       "Stage_at_Diagnosis         0\n",
       "Tumor_Aggressiveness       0\n",
       "Colonoscopy_Access         0\n",
       "Screening_Regularity       0\n",
       "Diet_Type                  0\n",
       "BMI                        0\n",
       "Physical_Activity_Level    0\n",
       "Smoking_Status             0\n",
       "Alcohol_Consumption        0\n",
       "Red_Meat_Consumption       0\n",
       "Fiber_Consumption          0\n",
       "Insurance_Coverage         0\n",
       "Time_to_Diagnosis          0\n",
       "Treatment_Access           0\n",
       "Chemotherapy_Received      0\n",
       "Radiotherapy_Received      0\n",
       "Surgery_Received           0\n",
       "Follow_Up_Adherence        0\n",
       "Survival_Status            0\n",
       "Recurrence                 0\n",
       "Time_to_Recurrence         0\n",
       "dtype: int64"
      ]
     },
     "execution_count": 10,
     "metadata": {},
     "output_type": "execute_result"
    }
   ],
   "source": [
    "df.isnull().sum()"
   ]
  },
  {
   "cell_type": "code",
   "execution_count": 11,
   "id": "d1ad94d5",
   "metadata": {},
   "outputs": [],
   "source": [
    "#there are no missing values in any of the columns, we can skip the missing value handling step"
   ]
  },
  {
   "cell_type": "code",
   "execution_count": 12,
   "id": "6d841596",
   "metadata": {},
   "outputs": [],
   "source": [
    "#Step 4: Encode Categorical Variables"
   ]
  },
  {
   "cell_type": "code",
   "execution_count": 13,
   "id": "61e3aa35",
   "metadata": {},
   "outputs": [],
   "source": [
    "df.drop(\"Patient_ID\", axis=1, inplace=True)"
   ]
  },
  {
   "cell_type": "code",
   "execution_count": 14,
   "id": "485a8166",
   "metadata": {},
   "outputs": [],
   "source": [
    "label_encoders = {}\n",
    "for col in df.select_dtypes(include='object').columns:\n",
    "    le = LabelEncoder()\n",
    "    df[col] = le.fit_transform(df[col])\n",
    "    label_encoders[col] = le"
   ]
  },
  {
   "cell_type": "code",
   "execution_count": 15,
   "id": "de6f2a50",
   "metadata": {},
   "outputs": [],
   "source": [
    "# Step 5: Feature and Target Separation"
   ]
  },
  {
   "cell_type": "code",
   "execution_count": 16,
   "id": "bb762140",
   "metadata": {},
   "outputs": [],
   "source": [
    "target = 'Survival_Status'"
   ]
  },
  {
   "cell_type": "code",
   "execution_count": 17,
   "id": "abfcc3ba",
   "metadata": {},
   "outputs": [],
   "source": [
    "X = df.drop(target, axis=1)\n",
    "y = df[target]"
   ]
  },
  {
   "cell_type": "code",
   "execution_count": 18,
   "id": "95435596",
   "metadata": {},
   "outputs": [],
   "source": [
    "# Step 6: Normalize Features"
   ]
  },
  {
   "cell_type": "code",
   "execution_count": 19,
   "id": "ff52b3dc",
   "metadata": {},
   "outputs": [],
   "source": [
    "scaler = StandardScaler()\n",
    "X_scaled = scaler.fit_transform(X)"
   ]
  },
  {
   "cell_type": "code",
   "execution_count": 20,
   "id": "b68ed548",
   "metadata": {},
   "outputs": [],
   "source": [
    "#Step 7: Train-Test Split"
   ]
  },
  {
   "cell_type": "code",
   "execution_count": 21,
   "id": "62a00b8a",
   "metadata": {},
   "outputs": [],
   "source": [
    "X_train, X_test, y_train, y_test = train_test_split(\n",
    "    X_scaled, y, test_size=0.2, random_state=42)\n"
   ]
  },
  {
   "cell_type": "code",
   "execution_count": 22,
   "id": "03083f6b",
   "metadata": {},
   "outputs": [],
   "source": [
    "#Step 8: Train Models"
   ]
  },
  {
   "cell_type": "code",
   "execution_count": 23,
   "id": "959cd70b",
   "metadata": {},
   "outputs": [],
   "source": [
    "#Logistic Regression"
   ]
  },
  {
   "cell_type": "code",
   "execution_count": 24,
   "id": "f6fada0a",
   "metadata": {},
   "outputs": [],
   "source": [
    "lr = LogisticRegression(max_iter=1000)\n",
    "lr.fit(X_train, y_train)\n",
    "y_pred_lr = lr.predict(X_test)\n"
   ]
  },
  {
   "cell_type": "code",
   "execution_count": 25,
   "id": "00f98da0",
   "metadata": {},
   "outputs": [],
   "source": [
    "#Decision Tree"
   ]
  },
  {
   "cell_type": "code",
   "execution_count": 26,
   "id": "01d239df",
   "metadata": {},
   "outputs": [],
   "source": [
    "dt = DecisionTreeClassifier(random_state=42)\n",
    "dt.fit(X_train, y_train)\n",
    "y_pred_dt = dt.predict(X_test)\n"
   ]
  },
  {
   "cell_type": "code",
   "execution_count": 27,
   "id": "60433eb9",
   "metadata": {},
   "outputs": [],
   "source": [
    "#Random Forest"
   ]
  },
  {
   "cell_type": "code",
   "execution_count": 28,
   "id": "b56b865c",
   "metadata": {},
   "outputs": [],
   "source": [
    "rf = RandomForestClassifier(random_state=42)\n",
    "rf.fit(X_train, y_train)\n",
    "y_pred_rf = rf.predict(X_test)\n"
   ]
  },
  {
   "cell_type": "code",
   "execution_count": 29,
   "id": "001b520a",
   "metadata": {},
   "outputs": [],
   "source": [
    "#Step 9: Evaluate Models"
   ]
  },
  {
   "cell_type": "code",
   "execution_count": 30,
   "id": "619f07ce",
   "metadata": {},
   "outputs": [
    {
     "name": "stdout",
     "output_type": "stream",
     "text": [
      "\n",
      "--- Logistic Regression ---\n",
      "Accuracy: 0.7514592250819946\n",
      "Classification Report:\n",
      "               precision    recall  f1-score   support\n",
      "\n",
      "           0       0.00      0.00      0.00      4471\n",
      "           1       0.75      1.00      0.86     13518\n",
      "\n",
      "    accuracy                           0.75     17989\n",
      "   macro avg       0.38      0.50      0.43     17989\n",
      "weighted avg       0.56      0.75      0.64     17989\n",
      "\n",
      "Confusion Matrix:\n",
      " [[    0  4471]\n",
      " [    0 13518]]\n",
      "\n",
      "--- Decision Tree ---\n",
      "Accuracy: 0.6107621324142531\n",
      "Classification Report:\n",
      "               precision    recall  f1-score   support\n",
      "\n",
      "           0       0.25      0.28      0.27      4471\n",
      "           1       0.75      0.72      0.74     13518\n",
      "\n",
      "    accuracy                           0.61     17989\n",
      "   macro avg       0.50      0.50      0.50     17989\n",
      "weighted avg       0.63      0.61      0.62     17989\n",
      "\n",
      "Confusion Matrix:\n",
      " [[1272 3199]\n",
      " [3803 9715]]\n",
      "\n",
      "--- Random Forest ---\n",
      "Accuracy: 0.7514036355550614\n",
      "Classification Report:\n",
      "               precision    recall  f1-score   support\n",
      "\n",
      "           0       0.00      0.00      0.00      4471\n",
      "           1       0.75      1.00      0.86     13518\n",
      "\n",
      "    accuracy                           0.75     17989\n",
      "   macro avg       0.38      0.50      0.43     17989\n",
      "weighted avg       0.56      0.75      0.64     17989\n",
      "\n",
      "Confusion Matrix:\n",
      " [[    0  4471]\n",
      " [    1 13517]]\n"
     ]
    },
    {
     "name": "stderr",
     "output_type": "stream",
     "text": [
      "C:\\Users\\nisha\\anaconda3\\Lib\\site-packages\\sklearn\\metrics\\_classification.py:1469: UndefinedMetricWarning: Precision and F-score are ill-defined and being set to 0.0 in labels with no predicted samples. Use `zero_division` parameter to control this behavior.\n",
      "  _warn_prf(average, modifier, msg_start, len(result))\n",
      "C:\\Users\\nisha\\anaconda3\\Lib\\site-packages\\sklearn\\metrics\\_classification.py:1469: UndefinedMetricWarning: Precision and F-score are ill-defined and being set to 0.0 in labels with no predicted samples. Use `zero_division` parameter to control this behavior.\n",
      "  _warn_prf(average, modifier, msg_start, len(result))\n",
      "C:\\Users\\nisha\\anaconda3\\Lib\\site-packages\\sklearn\\metrics\\_classification.py:1469: UndefinedMetricWarning: Precision and F-score are ill-defined and being set to 0.0 in labels with no predicted samples. Use `zero_division` parameter to control this behavior.\n",
      "  _warn_prf(average, modifier, msg_start, len(result))\n"
     ]
    }
   ],
   "source": [
    "def evaluate_model(name, y_true, y_pred):\n",
    "    print(f\"\\n--- {name} ---\")\n",
    "    print(\"Accuracy:\", accuracy_score(y_true, y_pred))\n",
    "    print(\"Classification Report:\\n\", classification_report(y_true, y_pred))\n",
    "    print(\"Confusion Matrix:\\n\", confusion_matrix(y_true, y_pred))\n",
    "\n",
    "evaluate_model(\"Logistic Regression\", y_test, y_pred_lr)\n",
    "evaluate_model(\"Decision Tree\", y_test, y_pred_dt)\n",
    "evaluate_model(\"Random Forest\", y_test, y_pred_rf)\n"
   ]
  },
  {
   "cell_type": "code",
   "execution_count": null,
   "id": "9435d433",
   "metadata": {},
   "outputs": [],
   "source": []
  }
 ],
 "metadata": {
  "kernelspec": {
   "display_name": "Python 3 (ipykernel)",
   "language": "python",
   "name": "python3"
  },
  "language_info": {
   "codemirror_mode": {
    "name": "ipython",
    "version": 3
   },
   "file_extension": ".py",
   "mimetype": "text/x-python",
   "name": "python",
   "nbconvert_exporter": "python",
   "pygments_lexer": "ipython3",
   "version": "3.11.5"
  }
 },
 "nbformat": 4,
 "nbformat_minor": 5
}
